def jls_extract_def(x, result):
    def s():
        x = int(input())
        result = (5**x) % 1000
        print(result)
    return s


s = jls_extract_def(x, result)

if __name__ == "__main__":
    s()
